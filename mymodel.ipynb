{
 "cells": [
  {
   "cell_type": "code",
   "execution_count": 2,
   "id": "47f81586-5e4d-46e2-b8a5-6545938fff6d",
   "metadata": {},
   "outputs": [],
   "source": [
    "import torch \n",
    "from torch.autograd import Variable\n",
    "import torchvision\n",
    "from torchvision import transforms\n",
    "import torch.nn.functional as F\n",
    "from torch import optim\n",
    "import torch.nn as nn\n",
    "from PIL import Image"
   ]
  },
  {
   "cell_type": "markdown",
   "id": "e7906868-80fc-4aa0-a65b-28f85a917afb",
   "metadata": {},
   "source": [
    "LOAD MODEL VGG 19"
   ]
  },
  {
   "cell_type": "code",
   "execution_count": 4,
   "id": "2ab1d1fd-1b21-4e8d-80a4-7d896a230ca4",
   "metadata": {},
   "outputs": [
    {
     "ename": "NameError",
     "evalue": "name 'vgg19' is not defined",
     "output_type": "error",
     "traceback": [
      "\u001b[1;31m---------------------------------------------------------------------------\u001b[0m",
      "\u001b[1;31mNameError\u001b[0m                                 Traceback (most recent call last)",
      "Cell \u001b[1;32mIn[4], line 1\u001b[0m\n\u001b[1;32m----> 1\u001b[0m cnn \u001b[38;5;241m=\u001b[39m \u001b[43mvgg19\u001b[49m(weights\u001b[38;5;241m=\u001b[39mVGG19_Weights\u001b[38;5;241m.\u001b[39mDEFAULT)\u001b[38;5;241m.\u001b[39mfeatures\u001b[38;5;241m.\u001b[39meval()\n",
      "\u001b[1;31mNameError\u001b[0m: name 'vgg19' is not defined"
     ]
    }
   ],
   "source": [
    "cnn = vgg19(weights=VGG19_Weights.DEFAULT).features.eval()"
   ]
  },
  {
   "cell_type": "code",
   "execution_count": null,
   "id": "cc5ebdcf-e43f-4381-9ef5-456ed60aca3b",
   "metadata": {},
   "outputs": [],
   "source": []
  }
 ],
 "metadata": {
  "kernelspec": {
   "display_name": "pytorch",
   "language": "python",
   "name": "pytorch"
  },
  "language_info": {
   "codemirror_mode": {
    "name": "ipython",
    "version": 3
   },
   "file_extension": ".py",
   "mimetype": "text/x-python",
   "name": "python",
   "nbconvert_exporter": "python",
   "pygments_lexer": "ipython3",
   "version": "3.11.7"
  }
 },
 "nbformat": 4,
 "nbformat_minor": 5
}
